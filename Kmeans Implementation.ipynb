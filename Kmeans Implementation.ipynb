{
 "cells": [
  {
   "cell_type": "code",
   "execution_count": 1,
   "id": "01413971-b875-4ba7-adf9-50fc4b51a01c",
   "metadata": {},
   "outputs": [],
   "source": [
    "from module.KmeansCluster import kmeansCluster\n",
    "km = kmeansCluster()\n",
    "\n",
    "%store -r t\n"
   ]
  },
  {
   "cell_type": "code",
   "execution_count": 2,
   "id": "5ee6cdb9-21a1-4bc1-aea2-465a718baea8",
   "metadata": {},
   "outputs": [],
   "source": [
    "import pandas as pd\n",
    "\n",
    "data = pd.read_csv('./fakeData/data' + t +'.csv')\n",
    "\n",
    "# X = data[['valueLog','sex', 'marketing','moveFreq', 'premsFreq', 'premsMedian','traceability']].to_numpy()\n",
    "# X = data[['perno', 'sex', 'latitude', 'long', 'valueLog',\n",
    "#    'marketing', 'moveFreq', 'moveDur', 'premsFreq', 'premsMean',\n",
    "#    'premsMax', 'premsMin', 'premsMedian', 'premsDur', 'traceability']].to_numpy()\n",
    "\n",
    "X = data[['sex', 'valueLog',\n",
    "       'marketing', 'moveFreq', 'moveDur', 'premsFreq', 'premsMean',\n",
    "       'premsMax', 'premsMin', 'premsMedian', 'premsDur', 'traceability']].to_numpy()\n",
    "\n",
    "y = data['goneAway'].to_list()"
   ]
  },
  {
   "cell_type": "code",
   "execution_count": 7,
   "id": "79e9de32-9bec-4d42-b3d1-78a79b78d77a",
   "metadata": {
    "collapsed": true,
    "jupyter": {
     "outputs_hidden": true
    },
    "tags": []
   },
   "outputs": [
    {
     "data": {
      "text/plain": [
       "([9845.333724172317,\n",
       "  7502.574834795383,\n",
       "  6657.05571238658,\n",
       "  5844.407285731249,\n",
       "  5001.438909780379,\n",
       "  4751.568547331968,\n",
       "  4471.575429069806,\n",
       "  4217.442048904564,\n",
       "  4004.059882530938,\n",
       "  3759.266387485889,\n",
       "  3540.931753476406,\n",
       "  3386.711112100972,\n",
       "  3151.7489893207257,\n",
       "  2921.6252983376335,\n",
       "  2801.578180099733,\n",
       "  2675.6767509122087,\n",
       "  2512.1030686804647,\n",
       "  2433.2045948895493,\n",
       "  2302.0510832211944,\n",
       "  2218.6399569036585,\n",
       "  2030.2067229096142,\n",
       "  1981.214656220691,\n",
       "  1863.7516954662103,\n",
       "  1852.9313597609066,\n",
       "  1694.639316918307,\n",
       "  1639.8778217828497,\n",
       "  1620.3198988184636,\n",
       "  1558.2719394088049,\n",
       "  1477.8539727777195,\n",
       "  1471.0514666105655,\n",
       "  1412.2703435341446,\n",
       "  1314.6692823764677,\n",
       "  1301.4880493155376,\n",
       "  1253.5018035718617,\n",
       "  1211.4417526328232,\n",
       "  1160.0816209679642,\n",
       "  1136.0349311755117,\n",
       "  1103.6818238385765,\n",
       "  1051.1136194561361,\n",
       "  1012.5385397669985,\n",
       "  987.7851868101724,\n",
       "  927.6523086303363,\n",
       "  930.3922871258166,\n",
       "  916.7474244737399,\n",
       "  880.8417335603975,\n",
       "  849.693986405525,\n",
       "  823.9288408402455,\n",
       "  807.4761741966644],\n",
       " <kneed.knee_locator.KneeLocator at 0x2ce771fafd0>)"
      ]
     },
     "execution_count": 7,
     "metadata": {},
     "output_type": "execute_result"
    },
    {
     "data": {
      "image/png": "[encoded data removed]",
      "text/plain": [
       "<Figure size 432x288 with 1 Axes>"
      ]
     },
     "metadata": {
      "needs_background": "light"
     },
     "output_type": "display_data"
    }
   ],
   "source": [
    "km.findKMeansClusters(X, path = './vis/')"
   ]
  },
  {
   "cell_type": "code",
   "execution_count": 14,
   "id": "9cd76745-f8c7-454c-a72c-807421f04e8c",
   "metadata": {},
   "outputs": [
    {
     "name": "stdout",
     "output_type": "stream",
     "text": [
      "Warning: too many kneedle clusters, reverting to max clusters\n"
     ]
    }
   ],
   "source": [
    "labels, centres, kmeans = km.labelKMeans(X)"
   ]
  },
  {
   "cell_type": "code",
   "execution_count": 24,
   "id": "69d183a2-3c96-4ea0-97cf-80ff7b42d662",
   "metadata": {},
   "outputs": [
    {
     "data": {
      "text/plain": [
       "array([8, 7, 3, ..., 2, 3, 0])"
      ]
     },
     "execution_count": 24,
     "metadata": {},
     "output_type": "execute_result"
    }
   ],
   "source": [
    "labels"
   ]
  },
  {
   "cell_type": "code",
   "execution_count": null,
   "id": "c171b8bb-b756-4ad0-9e3c-9ba76dc7ec72",
   "metadata": {},
   "outputs": [],
   "source": [
    "import numpy as np\n",
    "np.unique(labels, return_counts = True)"
   ]
  },
  {
   "cell_type": "code",
   "execution_count": 9,
   "id": "2d1b012c-2341-481b-bafe-c54b98f3af8d",
   "metadata": {},
   "outputs": [],
   "source": [
    "data['cluster'] = labels\n",
    "data.to_csv('./fakeData/labelledDataKmeans' + t +'.csv', index = False)"
   ]
  },
  {
   "cell_type": "code",
   "execution_count": 19,
   "id": "24ef5176-51b8-4d27-9502-29cccfbd2a52",
   "metadata": {},
   "outputs": [],
   "source": [
    "ct = centres.transpose()"
   ]
  },
  {
   "cell_type": "code",
   "execution_count": 108,
   "id": "0cb43de7-0700-4050-9258-d9f817f307e0",
   "metadata": {},
   "outputs": [
    {
     "data": {
      "image/png": "[encoded data removed]",
      "text/plain": [
       "<Figure size 432x288 with 2 Axes>"
      ]
     },
     "metadata": {
      "needs_background": "light"
     },
     "output_type": "display_data"
    }
   ],
   "source": [
    "import numpy as np\n",
    "import matplotlib.pyplot as plt\n",
    "from sklearn.preprocessing import MinMaxScaler\n",
    "\n",
    "columnnames = ['sex', 'valueLog',\n",
    "       'marketing', 'moveFreq', 'moveDur', 'premsFreq', 'premsMean',\n",
    "       'premsMax', 'premsMin', 'premsMedian', 'premsDur', 'traceability']\n",
    "\n",
    "c = MinMaxScaler().fit_transform(centres)\n",
    "fig,ax = plt.subplots()\n",
    "ax.matshow(np.abs(pd.DataFrame(np.transpose(c)).corr()), interpolation='nearest', vmin=0, vmax=1, cmap = 'Reds')\n",
    "\n",
    "ax.set_xtickslabels = columnnames\n",
    "ax.set_yticklabels = columnnames\n",
    "\n",
    "fig.colorbar(mappable = cax, ax = ax)\n",
    "fig.savefig('corr.png', transparent=False, facecolor='white')"
   ]
  },
  {
   "cell_type": "code",
   "execution_count": 155,
   "id": "f2fd60b1-e139-449a-981e-2d5f0ab498e5",
   "metadata": {},
   "outputs": [],
   "source": [
    "import itertools\n",
    "\n",
    "c = MinMaxScaler((.00001, 1)).fit_transform(centres)\n",
    "\n",
    "for feat in np.transpose(c):\n",
    "    lm=[]\n",
    "    for i in range(len(feat)):\n",
    "        l = [(((i-j)/j)*100) for j in feat]\n",
    "        lm.append(np.mean(l))"
   ]
  },
  {
   "cell_type": "code",
   "execution_count": 164,
   "id": "cb9e7391-5b9d-4b90-924c-b230f47c142c",
   "metadata": {
    "tags": []
   },
   "outputs": [
    {
     "data": {
      "text/plain": [
       "[-100.0,\n",
       " 2000023.965876778,\n",
       " 4000147.931753555,\n",
       " 6000271.897630332,\n",
       " 8000395.86350711,\n",
       " 10000519.82938389,\n",
       " 12000643.795260668,\n",
       " 14000767.761137445,\n",
       " 16000891.72701422,\n",
       " 18001015.692891]"
      ]
     },
     "execution_count": 164,
     "metadata": {},
     "output_type": "execute_result"
    }
   ],
   "source": [
    "lm"
   ]
  },
  {
   "cell_type": "code",
   "execution_count": 129,
   "id": "64273e3c-65d6-4f02-b151-50374b3a9dd5",
   "metadata": {},
   "outputs": [
    {
     "data": {
      "text/plain": [
       "[-113.52937355615065,\n",
       " 99.99786470626442,\n",
       " 62.281888785860716,\n",
       " -77.29431669632561,\n",
       " 49.54836703302792,\n",
       " -111.48730528111494,\n",
       " -113.02647053526735,\n",
       " -96.45373770864589,\n",
       " -111.5035620305531,\n",
       " 93.27848116125274,\n",
       " 99.99786470626444,\n",
       " 99.999,\n",
       " 82.33586762047014,\n",
       " 16.96958889372498,\n",
       " 76.37250925868283,\n",
       " 0.9563406856053505,\n",
       " 0.23551936321821737,\n",
       " 7.99685568459483,\n",
       " 0.9487273305116675,\n",
       " 96.8521806968259,\n",
       " 99.99900000000001,\n",
       " -1766313.2379431806,\n",
       " -8302941.110581411,\n",
       " -2362649.074118602,\n",
       " -9904265.931384483,\n",
       " -9976348.063622797,\n",
       " -9200214.431489445,\n",
       " -9905027.266893849,\n",
       " -314681.930315663,\n",
       " 5.550945716505518e-10,\n",
       " -370.05088799320305,\n",
       " -33.75970148807298,\n",
       " -460.70491992673084,\n",
       " -464.78562599765263,\n",
       " -420.8472306402284,\n",
       " -460.74802057232216,\n",
       " 82.17959854726878,\n",
       " 99.99433881054266,\n",
       " 71.54357008894596,\n",
       " -19.286003760264922,\n",
       " -20.15414509882161,\n",
       " -10.806562426440921,\n",
       " -19.29517311760309,\n",
       " 96.20883570099991,\n",
       " 99.99879562200563,\n",
       " -319.18822611661375,\n",
       " -322.23900002349603,\n",
       " -289.3902459752956,\n",
       " -319.2204485611257,\n",
       " 86.67730171757282,\n",
       " 99.9957676419771,\n",
       " -0.7277813919405252,\n",
       " 7.108496442604919,\n",
       " -0.0076868677373034995,\n",
       " 96.82178614465165,\n",
       " 99.9989903442513,\n",
       " 7.779658924536228,\n",
       " 0.7148916756155598,\n",
       " 96.84474947087175,\n",
       " 99.99899763924634,\n",
       " -7.660747256551112,\n",
       " 96.5785742143956,\n",
       " 99.99891308062628,\n",
       " 96.82203043096915,\n",
       " 99.99899042185622,\n",
       " 99.9682319757366]"
      ]
     },
     "execution_count": 129,
     "metadata": {},
     "output_type": "execute_result"
    }
   ],
   "source": [
    "l"
   ]
  }
 ],
 "metadata": {
  "kernelspec": {
   "display_name": "Python 3 (ipykernel)",
   "language": "python",
   "name": "python3"
  },
  "language_info": {
   "codemirror_mode": {
    "name": "ipython",
    "version": 3
   },
   "file_extension": ".py",
   "mimetype": "text/x-python",
   "name": "python",
   "nbconvert_exporter": "python",
   "pygments_lexer": "ipython3",
   "version": "3.9.7"
  }
 },
 "nbformat": 4,
 "nbformat_minor": 5
}
