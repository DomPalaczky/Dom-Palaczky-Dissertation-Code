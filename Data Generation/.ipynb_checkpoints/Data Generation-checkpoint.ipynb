{
 "cells": [
  {
   "cell_type": "markdown",
   "id": "1ab3316b-9201-4926-9b6c-be4c239383a1",
   "metadata": {},
   "source": [
    "# Data Generation"
   ]
  },
  {
   "cell_type": "markdown",
   "id": "b07c44eb-da1a-4739-b198-15cb8c180569",
   "metadata": {},
   "source": [
    "This notebook contains the code and fuctions used to craete an artificial data set"
   ]
  },
  {
   "cell_type": "code",
   "execution_count": 1,
   "id": "ab0dba58",
   "metadata": {},
   "outputs": [],
   "source": [
    "from faker import Faker\n",
    "import string\n",
    "import random\n",
    "import pandas as pd\n",
    "from datetime import datetime\n",
    "import numpy as np\n",
    "\n",
    "fake = Faker('en_UK') #initialise faker\n",
    "l1 = ['yes','no']\n",
    "#generate empty lists, to be filled with fake data and later into a dataframe\n",
    "l =np.array([[i,\n",
    "     (random.choice(string.ascii_letters) + random.choice(string.ascii_letters)).upper(),\n",
    "    random.randrange(3),\n",
    "    fake.phone_number(),\n",
    "    fake.phone_number(),\n",
    "    fake.phone_number(), \n",
    "    random.choice(l1), \n",
    "    np.random.choice(2, p = [1-0.156098,0.156098])] for i in range(0,10000)])\n",
    "    \n",
    "\n",
    "#seperate out intoindvidual lists\n",
    "pernos = list(l[:,0])\n",
    "initials = list(l[:,1])\n",
    "sex = list(l[:,2])\n",
    "mobphones = list(l[:,3])\n",
    "homephones = list(l[:,4])\n",
    "workphones = list(l[:,5])\n",
    "marketing =  list(l[:,6])\n",
    "goneaway = list(l[:,7])"
   ]
  },
  {
   "cell_type": "code",
   "execution_count": 2,
   "id": "3c8bfd00",
   "metadata": {},
   "outputs": [
    {
     "name": "stderr",
     "output_type": "stream",
     "text": [
      "C:\\Users\\dompa\\AppData\\Local\\Temp/ipykernel_3632/3661772250.py:45: VisibleDeprecationWarning: Creating an ndarray from ragged nested sequences (which is a list-or-tuple of lists-or-tuples-or ndarrays with different lengths or shapes) is deprecated. If you meant to do this, you must specify 'dtype=object' when creating the ndarray.\n",
      "  l = np.array([generateHistory(no) for no in pernos ])\n"
     ]
    }
   ],
   "source": [
    "from scipy.stats import skewnorm\n",
    "from dateutil.relativedelta import relativedelta\n",
    "import time \n",
    "\n",
    "#generate address and history, premium history\n",
    " \n",
    "def generateHistory(no):\n",
    "    #indivdual moves max of 3 times in 18 years\n",
    "    m = np.random.choice(3, p = [0.8, .15,.05]) + 1\n",
    "    \n",
    "    prevaddre = []\n",
    "    prems = []\n",
    "    prevaddre = [[no, fake.address().replace('\\n',', '), (fake.date_between('-18y','today'))] for i in range(m)]\n",
    "    # for i in range(0,m):\n",
    "    #     addre = fake.address() #generate fake address\n",
    "    #     addre = addre.replace('\\n',', ') #formatting\n",
    "    #     d= (fake.date_between('-18y','today')) #generate a date latest 18 years ago\n",
    "    #     l1 = [no,addre,d]\n",
    "    #     prevaddre.append(l1)\n",
    "    # now create prem history. 5% chance of being a regular input, 5% chance of one off large, 90% chance of no input\n",
    "    chnce = random.uniform(0, 1)\n",
    "    if chnce < 0.33:\n",
    "        prems = [[no, abs(round(skewnorm.rvs(10, loc=20, scale=100),2)), str(i)[0:10]] for i in pd.date_range('2003-01-01','2021-01-01',freq = 'm')]\n",
    "        #prem = round(skewnorm.rvs(10, loc=20, scale=100),2) #max regular input of about 300, pervents putting in over the max atx free amount\n",
    "        # for i in pd.date_range('2003-01-01','2021-01-01',freq = 'm'): #every month for the prev 18 years\n",
    "        #     l2 = [no,prem,prem,str(i)[0:10]] \n",
    "        #     prems.append(l2)\n",
    "    elif chnce > 0.66: # if irregular, generate random dates the prems are paid, and random prem amounts\n",
    "        n=random.randrange(1,100)\n",
    "        prems = [[no, abs(round(skewnorm.rvs(0, loc=2000, scale=1000),2)), (fake.date_between('-18y','today'))] for i in range(n)]\n",
    "        # for i in range(0,n):\n",
    "            # d = (fake.date_between('-18y','today'))\n",
    "            # prem = round(skewnorm.rvs(0, loc=2000, scale=1000),2)\n",
    "            # l2 = [no,prem,prem,str(d)]\n",
    "            # prems.append(l2)\n",
    "    else:\n",
    "        d = (datetime.now() - relativedelta(years=18) + relativedelta(days = np.random.randint(-100,100))).date() #18 year olds + some jitter\n",
    "        prem = 250\n",
    "        l2 = [no,prem,str(d)]\n",
    "        prems.append(l2)\n",
    "        \n",
    "    return prevaddre, prems\n",
    "\n",
    "#t = time.time()\n",
    "l = np.array([generateHistory(no) for no in pernos ]) #create history array\n",
    "#ti = time.time() - t\n",
    "# l = np.array(l)\n",
    "prevaddre = [i for l1 in l[:,0] for i in l1]\n",
    "prems = [i for l1 in l[:,1] for i in l1]"
   ]
  },
  {
   "cell_type": "code",
   "execution_count": 3,
   "id": "f3171d3c",
   "metadata": {},
   "outputs": [],
   "source": [
    "#create prev address df\n",
    "previousaddressesdf = pd.DataFrame(prevaddre, columns=['perno','address','dateFrom'])\n",
    "previousaddressesdf['dateFrom'] =  pd.to_datetime(previousaddressesdf['dateFrom'])\n",
    "previousaddressesdf = previousaddressesdf.sort_values(by=['perno', 'dateFrom']).reset_index(drop=True)\n",
    "previousaddressesdf.set_index('perno',inplace=True)\n",
    "\n",
    "datetos = []\n",
    "lastaddresses = []\n",
    "#generate list of addresses\n",
    "for no in pernos:\n",
    "    addlist=previousaddressesdf.loc[no]['dateFrom']\n",
    "    prevad = previousaddressesdf.loc[no]['address']\n",
    "    if str(type(addlist)) == \"<class 'pandas.core.series.Series'>\":\n",
    "        l1 = list(addlist)\n",
    "        l2 = list(prevad)\n",
    "    else:\n",
    "        l1 = [addlist]\n",
    "        l2 = [prevad]\n",
    "    j=0\n",
    "    for i in l1:\n",
    "        if j !=0:\n",
    "            #if not the last address living in, add the next date from to date to\n",
    "            datetos.append(i)\n",
    "            \n",
    "        else:\n",
    "            j+=1\n",
    "    datetos.append('NaN') #if last address set to NaT\n",
    "    lastaddresses.append(l2[-1]) #Create list of current address\n",
    "previousaddressesdf.reset_index(inplace=True)\n",
    "\n",
    "previousaddressesdf['dateTo'] = datetos\n",
    "\n",
    "postcodes = list(map(lambda x: x.split(', ')[-1], lastaddresses)) #extract postcode from last address\n",
    "previousaddressesdf['postcode'] = list(map(lambda x: x.split(', ')[-1], previousaddressesdf['address'])) #add postcodes to adress history tpp"
   ]
  },
  {
   "cell_type": "code",
   "execution_count": 4,
   "id": "567dc81b",
   "metadata": {},
   "outputs": [],
   "source": [
    "#create the holdings df\n",
    "premsdf = pd.DataFrame(prems, columns = ['perno','netPrem','effDate'])\n",
    "premsdf = premsdf.sort_values(by=['perno','effDate']).reset_index(drop=True)"
   ]
  },
  {
   "cell_type": "code",
   "execution_count": 5,
   "id": "04af32f2",
   "metadata": {},
   "outputs": [],
   "source": [
    "#Calculate policy value, assume fees of 1%, interest of 4%\n",
    "from dateutil.relativedelta import relativedelta\n",
    "\n",
    "premsdf.set_index('perno',inplace=True)\n",
    "edate = datetime(2021, 1, 1) #end date set to 2021\n",
    "\n",
    "totalvals = [] \n",
    "\n",
    "for no in pernos:\n",
    "    if no in premsdf.index:\n",
    "        nowval = []\n",
    "        #craete lists to iterate through\n",
    "        p = premsdf.loc[no]['netPrem']\n",
    "        d = premsdf.loc[no]['effDate']\n",
    "\n",
    "        if str(type(p)) == \"<class 'pandas.core.series.Series'>\":\n",
    "            lp = list(p)\n",
    "            ld = list(d)\n",
    "        else:\n",
    "            lp = [p]\n",
    "            ld = [d]\n",
    "\n",
    "        for i in range(0,len(lp)-1):\n",
    "            #calc differnce in dates by years\n",
    "            effd = datetime.strptime(str(ld[i]) ,'%Y-%m-%d')\n",
    "            yearDiff = relativedelta(edate, effd).years\n",
    "            #calculate value now with interest\n",
    "            interest = lp[i]*(1.04**int(yearDiff))\n",
    "            nowval.append([interest,yearDiff])\n",
    "\n",
    "        #Assume only one input payment of 250 (plus interest = 350), calc fees\n",
    "\n",
    "        totalval = 710\n",
    "        prevyear = 18\n",
    "\n",
    "        for i in nowval:\n",
    "            if prevyear == i[1]-1:\n",
    "                totalval = totalval * 0.99 #take fee\n",
    "            totalval = totalval + i[0] #add prem\n",
    "            prevyear = i[1]\n",
    "\n",
    "        totalvals.append(totalval)\n",
    "    else: \n",
    "        totalvals.append(595)\n",
    "    \n",
    "premsdf.reset_index(inplace=True)"
   ]
  },
  {
   "cell_type": "code",
   "execution_count": 6,
   "id": "00fbad7e",
   "metadata": {},
   "outputs": [],
   "source": [
    "#Create the perno dataframe\n",
    "pernodf = pd.DataFrame(list(map(list, zip(*[pernos,initials, sex,lastaddresses, postcodes, mobphones,homephones, workphones, marketing, goneaway,totalvals]))), columns = ['pernos','initials','sex','address', 'postcode', 'mobNumber', 'homeNumber', 'workNumber', 'marketing', 'goneAway','value'])"
   ]
  },
  {
   "cell_type": "code",
   "execution_count": 7,
   "id": "6f2e762c",
   "metadata": {},
   "outputs": [
    {
     "data": {
      "text/html": [
       "<div>\n",
       "<style scoped>\n",
       "    .dataframe tbody tr th:only-of-type {\n",
       "        vertical-align: middle;\n",
       "    }\n",
       "\n",
       "    .dataframe tbody tr th {\n",
       "        vertical-align: top;\n",
       "    }\n",
       "\n",
       "    .dataframe thead th {\n",
       "        text-align: right;\n",
       "    }\n",
       "</style>\n",
       "<table border=\"1\" class=\"dataframe\">\n",
       "  <thead>\n",
       "    <tr style=\"text-align: right;\">\n",
       "      <th></th>\n",
       "      <th>value</th>\n",
       "    </tr>\n",
       "  </thead>\n",
       "  <tbody>\n",
       "    <tr>\n",
       "      <th>count</th>\n",
       "      <td>10000.000000</td>\n",
       "    </tr>\n",
       "    <tr>\n",
       "      <th>mean</th>\n",
       "      <td>57542.583437</td>\n",
       "    </tr>\n",
       "    <tr>\n",
       "      <th>std</th>\n",
       "      <td>75328.006129</td>\n",
       "    </tr>\n",
       "    <tr>\n",
       "      <th>min</th>\n",
       "      <td>710.000000</td>\n",
       "    </tr>\n",
       "    <tr>\n",
       "      <th>25%</th>\n",
       "      <td>710.000000</td>\n",
       "    </tr>\n",
       "    <tr>\n",
       "      <th>50%</th>\n",
       "      <td>30980.348250</td>\n",
       "    </tr>\n",
       "    <tr>\n",
       "      <th>75%</th>\n",
       "      <td>70272.630574</td>\n",
       "    </tr>\n",
       "    <tr>\n",
       "      <th>max</th>\n",
       "      <td>309143.146431</td>\n",
       "    </tr>\n",
       "  </tbody>\n",
       "</table>\n",
       "</div>"
      ],
      "text/plain": [
       "               value\n",
       "count   10000.000000\n",
       "mean    57542.583437\n",
       "std     75328.006129\n",
       "min       710.000000\n",
       "25%       710.000000\n",
       "50%     30980.348250\n",
       "75%     70272.630574\n",
       "max    309143.146431"
      ]
     },
     "execution_count": 7,
     "metadata": {},
     "output_type": "execute_result"
    }
   ],
   "source": [
    "pernodf.describe()"
   ]
  },
  {
   "cell_type": "code",
   "execution_count": 8,
   "id": "9a02d795",
   "metadata": {},
   "outputs": [],
   "source": [
    "#save as CSVs\n",
    "t = datetime.now().strftime(\"%d-%m-%Y-%H-%M\")\n",
    "pernodf.to_csv(path_or_buf = './fakeData/perno' + t + '.csv', index = False)\n",
    "premsdf.to_csv(path_or_buf = './fakeData/prems' + t + '.csv', index = False)\n",
    "previousaddressesdf.to_csv(path_or_buf = './fakeData/address' + t + '.csv', index = False)"
   ]
  },
  {
   "cell_type": "code",
   "execution_count": 9,
   "id": "6c1659fb-5437-483b-b927-c4f1d0c4b169",
   "metadata": {},
   "outputs": [
    {
     "name": "stdout",
     "output_type": "stream",
     "text": [
      "Stored 't' (str)\n"
     ]
    }
   ],
   "source": [
    "%store t"
   ]
  }
 ],
 "metadata": {
  "kernelspec": {
   "display_name": "Python 3 (ipykernel)",
   "language": "python",
   "name": "python3"
  },
  "language_info": {
   "codemirror_mode": {
    "name": "ipython",
    "version": 3
   },
   "file_extension": ".py",
   "mimetype": "text/x-python",
   "name": "python",
   "nbconvert_exporter": "python",
   "pygments_lexer": "ipython3",
   "version": "3.9.7"
  }
 },
 "nbformat": 4,
 "nbformat_minor": 5
}
