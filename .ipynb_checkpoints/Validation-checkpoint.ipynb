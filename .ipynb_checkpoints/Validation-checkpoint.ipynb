{
 "cells": [
  {
   "cell_type": "code",
   "execution_count": 1,
   "id": "e95d5a82-2550-4c22-9c0d-cd48be75e519",
   "metadata": {},
   "outputs": [],
   "source": [
    "import pandas as pd\n",
    "\n",
    "%store -r t\n",
    "\n",
    "data = pd.read_csv('./fakeData/labelledDataSOM' + t + '.csv')\n",
    "# X = data[['valueLog','sex', 'marketing','moveFreq', 'premsFreq', 'premsMedian','traceability']].to_numpy()\n",
    "# X = data[['perno', 'sex', 'latitude', 'long', 'valueLog',\n",
    "#    'marketing', 'moveFreq', 'moveDur', 'premsFreq', 'premsMean',\n",
    "#    'premsMax', 'premsMin', 'premsMedian', 'premsDur', 'traceability']].to_numpy()\n",
    "\n",
    "X = data[['sex', 'valueLog',\n",
    "       'marketing', 'moveFreq', 'moveDur', 'premsFreq', 'premsMean',\n",
    "       'premsMax', 'premsMin', 'premsMedian', 'premsDur', 'traceability']].to_numpy()\n",
    "\n",
    "labels = data['cluster'].to_list()\n",
    "\n",
    "columnnames = ['sex', 'valueLog',\n",
    "       'marketing', 'moveFreq', 'moveDur', 'premsFreq', 'premsMean',\n",
    "       'premsMax', 'premsMin', 'premsMedian', 'premsDur', 'traceability']"
   ]
  },
  {
   "cell_type": "code",
   "execution_count": 73,
   "id": "7ccd85fa-c020-4fa9-9c6e-492688c37dc4",
   "metadata": {},
   "outputs": [
    {
     "data": {
      "text/plain": [
       "array([2.00000000e+00, 1.24010831e+01, 0.00000000e+00, 2.00000000e+00,\n",
       "       5.43000000e+02, 8.00000000e+01, 2.22426000e+03, 3.94487000e+03,\n",
       "       6.75800000e+01, 2.23669000e+03, 8.00000000e+01, 5.15673173e-01])"
      ]
     },
     "execution_count": 73,
     "metadata": {},
     "output_type": "execute_result"
    }
   ],
   "source": [
    "idx =  np.where(np.array(labels) == 3)[0]\n",
    "X[idx][1]"
   ]
  },
  {
   "cell_type": "code",
   "execution_count": 2,
   "id": "04377dd5-a337-443d-bd59-f5b6ccfc55cc",
   "metadata": {},
   "outputs": [],
   "source": [
    "from module.validateCluster import clusterSummary\n",
    "\n",
    "clustersummarydf = clusterSummary(X,columnnames, labels)"
   ]
  },
  {
   "cell_type": "code",
   "execution_count": null,
   "id": "47835259-ca41-417c-990f-990c4f945a16",
   "metadata": {},
   "outputs": [],
   "source": [
    "import numpy as np\n",
    "numofclusters = max(labels)+1\n",
    "importance = {key: [] for key in range(numofclusters)}\n",
    "impvals = []\n",
    "i=0\n",
    "for c in clustersummarydf.columns: \n",
    "\n",
    "    l = clustersummarydf[c]\n",
    "    x = X[:,i]\n",
    "\n",
    "    for j in range(len(l)):\n",
    "        if l[j] > (np.mean(x) + (np.std(x)))/:\n",
    "            impvals.append([c,j,np.mean(x), 'high']) #column, cluster, mean value, high or low\n",
    "        elif l[j] < np.mean(x) - (np.std(x)):\n",
    "            impvals.append([c,j,np.mean(x), 'low'])"
   ]
  },
  {
   "cell_type": "code",
   "execution_count": 3,
   "id": "91e5a962-d135-4373-8e80-e649df75f785",
   "metadata": {},
   "outputs": [
    {
     "name": "stdout",
     "output_type": "stream",
     "text": [
      "Statistically\n",
      "Cluster 0 has relatively high feature premsMean with mean value of 801.480793\n",
      "Cluster 0 has relatively high feature premsMax with mean value of 1584.953634\n",
      "Cluster 0 has relatively high feature premsMedian with mean value of 791.983216\n",
      "Cluster 1 has relatively low feature valueLog with mean value of 9.530657401884108\n",
      "Cluster 1 has relatively high feature premsDur with mean value of 2222.398\n",
      "Cluster 2 has relatively high feature moveFreq with mean value of 1.2434\n",
      "Cluster 2 has relatively low feature moveDur with mean value of 5688.0136\n",
      "Cluster 2 has relatively high feature premsFreq with mean value of 90.3794\n",
      "Cluster 3 has relatively high feature moveFreq with mean value of 1.2434\n",
      "Cluster 3 has relatively low feature moveDur with mean value of 5688.0136\n",
      "Cluster 3 has relatively high feature premsMean with mean value of 801.480793\n",
      "Cluster 3 has relatively high feature premsMax with mean value of 1584.953634\n",
      "Cluster 3 has relatively high feature premsMedian with mean value of 791.983216\n",
      "Cluster 4 has relatively high feature premsFreq with mean value of 90.3794\n"
     ]
    }
   ],
   "source": [
    "from module.validateCluster import featureImportanceStats\n",
    "\n",
    "stats, impvals = featureImportanceStats(clustersummarydf, max(labels)+1, X)"
   ]
  },
  {
   "cell_type": "code",
   "execution_count": 4,
   "id": "c42a0389-64b6-491b-bfe9-a726b6265799",
   "metadata": {},
   "outputs": [],
   "source": [
    "from module.validateCluster import featureImportanceDT, treevis\n",
    "\n",
    "featureImportance, score, clas = featureImportanceDT(X,labels, returnScore = True)\n",
    "treevis(clas,X,labels,columnnames, path = './vis')"
   ]
  },
  {
   "cell_type": "code",
   "execution_count": 5,
   "id": "efe5acf6-e85a-4422-a2d1-654260e4d5b7",
   "metadata": {},
   "outputs": [
    {
     "data": {
      "text/plain": [
       "<Figure size 432x288 with 0 Axes>"
      ]
     },
     "metadata": {},
     "output_type": "display_data"
    }
   ],
   "source": [
    "from module.validateCluster import plotFeatureImportance\n",
    "plotFeatureImportance(columnnames, featureImportance, path = './vis')"
   ]
  },
  {
   "cell_type": "code",
   "execution_count": 6,
   "id": "76050089-ec3e-4c82-b40f-478df140c1b7",
   "metadata": {},
   "outputs": [
    {
     "data": {
      "text/plain": [
       "<Figure size 432x288 with 0 Axes>"
      ]
     },
     "metadata": {},
     "output_type": "display_data"
    }
   ],
   "source": [
    "from module.validateCluster import plotFeatureImportanceByClass\n",
    "plotFeatureImportanceByClass(columnnames, featureImportance, X, labels, clas, path = './vis/')"
   ]
  },
  {
   "cell_type": "code",
   "execution_count": 7,
   "id": "95936a23-30ed-4f8a-9b5d-ccc240214300",
   "metadata": {},
   "outputs": [
    {
     "data": {
      "text/plain": [
       "<Figure size 432x288 with 0 Axes>"
      ]
     },
     "metadata": {},
     "output_type": "display_data"
    },
    {
     "data": {
      "text/plain": [
       "<Figure size 432x288 with 0 Axes>"
      ]
     },
     "metadata": {},
     "output_type": "display_data"
    }
   ],
   "source": [
    "from module.validateCluster import tsneScatter2D, pcaScatter\n",
    "tsneScatter2D(X,labels, path= './vis/')\n",
    "pcaScatter(X,labels, path = './vis/')"
   ]
  }
 ],
 "metadata": {
  "kernelspec": {
   "display_name": "Python 3 (ipykernel)",
   "language": "python",
   "name": "python3"
  },
  "language_info": {
   "codemirror_mode": {
    "name": "ipython",
    "version": 3
   },
   "file_extension": ".py",
   "mimetype": "text/x-python",
   "name": "python",
   "nbconvert_exporter": "python",
   "pygments_lexer": "ipython3",
   "version": "3.9.7"
  }
 },
 "nbformat": 4,
 "nbformat_minor": 5
}
