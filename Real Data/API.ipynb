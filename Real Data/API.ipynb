{
 "cells": [
  {
   "cell_type": "code",
   "execution_count": 1,
   "id": "ac7e49bb",
   "metadata": {},
   "outputs": [
    {
     "name": "stderr",
     "output_type": "stream",
     "text": [
      "C:\\AI\\anaconda3\\lib\\site-packages\\IPython\\core\\interactiveshell.py:3165: DtypeWarning: Columns (11,12) have mixed types.Specify dtype option on import or set low_memory=False.\n",
      "  has_raised = await self.run_ast_nodes(code_ast.body, cell_name,\n"
     ]
    }
   ],
   "source": [
    "import pandas as pd\n",
    "data = pd.read_csv('./data/perno.csv')"
   ]
  },
  {
   "cell_type": "code",
   "execution_count": 7,
   "id": "89f1c43f",
   "metadata": {},
   "outputs": [],
   "source": [
    "from module.API_tracing import APITracing\n",
    "resultDict = APITracing(data, api_key = 'test')"
   ]
  },
  {
   "cell_type": "code",
   "execution_count": 13,
   "id": "5d45c290",
   "metadata": {},
   "outputs": [],
   "source": [
    "from module.API_tracing import todf\n",
    "df = todf(resultDict)\n",
    "df.to_csv('./data/apiOver181.csv',index = False)"
   ]
  }
 ],
 "metadata": {
  "kernelspec": {
   "display_name": "Python 3",
   "language": "python",
   "name": "python3"
  },
  "language_info": {
   "codemirror_mode": {
    "name": "ipython",
    "version": 3
   },
   "file_extension": ".py",
   "mimetype": "text/x-python",
   "name": "python",
   "nbconvert_exporter": "python",
   "pygments_lexer": "ipython3",
   "version": "3.8.8"
  }
 },
 "nbformat": 4,
 "nbformat_minor": 5
}
