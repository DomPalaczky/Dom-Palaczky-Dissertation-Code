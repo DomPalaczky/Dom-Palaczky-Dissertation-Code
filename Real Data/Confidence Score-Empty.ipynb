{
 "cells": [
  {
   "cell_type": "markdown",
   "id": "38f619be",
   "metadata": {},
   "source": [
    "# Confidence Score Calculation and Prediciton"
   ]
  },
  {
   "cell_type": "code",
   "execution_count": null,
   "id": "ad0fd662",
   "metadata": {},
   "outputs": [],
   "source": [
    "import pandas as pd\n",
    "results = pd.read_csv('./data/apiResultsOver18.csv')\n",
    "\n",
    "data = pd.read_csv('./data/data.csv')\n",
    "\n",
    "perno = pd.read_csv('./data/perno.csv')\n",
    "\n",
    "addre = pd.read_csv('./data/ad.csv')"
   ]
  },
  {
   "cell_type": "code",
   "execution_count": null,
   "id": "58e123a8",
   "metadata": {
    "scrolled": true
   },
   "outputs": [],
   "source": [
    "perno.head()"
   ]
  },
  {
   "cell_type": "markdown",
   "id": "319c2b53",
   "metadata": {},
   "source": [
    "## Name Commonality"
   ]
  },
  {
   "cell_type": "code",
   "execution_count": null,
   "id": "8997c9cb",
   "metadata": {},
   "outputs": [],
   "source": [
    "# import numpy as np\n",
    "# from module.confidenceScore import similarity\n",
    "# names = np.unique(pernor['FIRST_NAME'])\n",
    "# uniquePairs = [[a, b, similarity(a,b)] for idx, a in enumerate(names) for b in names[idx + 1:]]"
   ]
  },
  {
   "cell_type": "code",
   "execution_count": null,
   "id": "05accc4a",
   "metadata": {},
   "outputs": [],
   "source": [
    "import numpy as np\n",
    "def nameCommonality(names):\n",
    "    uniqueNames,uniqueNamesCount = np.unique(names,return_counts=True)\n",
    "    uniqueNamesSum = np.sum(uniqueNamesCount)\n",
    "    uniqueNamesCount = (uniqueNamesCount / uniqueNamesSum) * 100\n",
    "    nameCommonalityDict = dict(zip(uniqueNames, uniqueNamesCount)) \n",
    "\n",
    "    commonality = [nameCommonalityDict[name] for name in names]\n",
    "    \n",
    "    return commonality "
   ]
  },
  {
   "cell_type": "code",
   "execution_count": null,
   "id": "8077f81d",
   "metadata": {},
   "outputs": [],
   "source": [
    "perno['FIRST_NAME_COMMONALITY'] = nameCommonality(list(perno['FIRST_NAME']))\n",
    "perno['SURNAME_COMMONALITY'] = nameCommonality(list(perno['SURNAME']))\n",
    "\n",
    "data['firstNameCommonality'] = perno['FIRST_NAME_COMMONALITY']\n",
    "data['surnameCommonality'] = perno['SURNAME_COMMONALITY']"
   ]
  },
  {
   "cell_type": "code",
   "execution_count": null,
   "id": "5197c1bb",
   "metadata": {},
   "outputs": [],
   "source": [
    "datar = data[data['perno'].isin(results['perno'])]\n",
    "pernor = perno[perno['PERNO'].isin(results['perno'])]\n",
    "addr = addre[addre['PERNO'].isin(results['perno'])]"
   ]
  },
  {
   "cell_type": "markdown",
   "id": "846aa2d5",
   "metadata": {},
   "source": [
    "## Calc Scores"
   ]
  },
  {
   "cell_type": "code",
   "execution_count": null,
   "id": "ccb687ee",
   "metadata": {},
   "outputs": [],
   "source": [
    "from module.confidenceScore import confidenceScoreCalc\n",
    "import numpy as np\n",
    "\n",
    "confidenceScores = confidenceScoreCalc(results, pernor, addr)\n",
    "\n",
    "results['confidenceScore'] = confidenceScores\n",
    "confidenceScores = results[['perno','confidenceScore']]\n",
    "\n",
    "pernos = list(datar['perno'])\n",
    "maxScore=[]\n",
    "for p in pernos:\n",
    "    maxScore.append(np.max(confidenceScores[confidenceScores['perno'] == p]['confidenceScore']))\n",
    "datar['traceability'] = maxScore"
   ]
  },
  {
   "cell_type": "markdown",
   "id": "3b7bd661",
   "metadata": {},
   "source": [
    "## ML model"
   ]
  },
  {
   "cell_type": "code",
   "execution_count": null,
   "id": "6df252fc",
   "metadata": {
    "scrolled": true
   },
   "outputs": [],
   "source": [
    "from sklearn.model_selection import train_test_split\n",
    "from sklearn.model_selection import KFold\n",
    "from sklearn.preprocessing import MinMaxScaler\n",
    "\n",
    "df = datar[['valueLog','moveFreq','premsFreq','premsMean','premsMedian','premsMax','premsMin','goneAway','firstNameCommonality','surnameCommonality','traceability']]\n",
    "\n",
    "df1 = datar[['valueLog','moveFreq','premsFreq','premsMean','premsMedian','premsMax','premsMin','goneAway','firstNameCommonality','surnameCommonality','traceability']]\n",
    "df1.loc[(df1.traceability > 0), 'traceability'] = 1\n",
    "df2 = df.where(df[\"traceability\"] > 0).dropna()\n",
    "\n",
    "X1 = MinMaxScaler().fit_transform(df1[['valueLog','moveFreq','premsFreq','premsMedian','goneAway','firstNameCommonality','surnameCommonality']].to_numpy())\n",
    "X2 = MinMaxScaler().fit_transform(df2[['valueLog','moveFreq','premsFreq','premsMedian','goneAway','firstNameCommonality','surnameCommonality']].to_numpy())\n",
    "\n",
    "y1 = df1[['traceability']].to_numpy()\n",
    "y2 = df2[['traceability']].to_numpy()\n",
    "\n",
    "X1_train, X1_test, y1_train, y1_test = train_test_split(X1, y1, test_size=0.4, random_state=1)\n",
    "X2_train, X2_test, y2_train, y2_test = train_test_split(X2, y2, test_size=0.4, random_state=1)\n",
    "\n",
    "\n",
    "kf = KFold(n_splits=3)\n",
    "#reg = SVR(kernel = 'linear')\n",
    "#scvLinearScore = SVC(kernel = 'linear').fit(X1, y1).score\n",
    "\n",
    "#reg = RandomForestRegressor().fit(X2, y2)"
   ]
  },
  {
   "cell_type": "markdown",
   "id": "bd509201",
   "metadata": {},
   "source": [
    "## Classifier"
   ]
  },
  {
   "cell_type": "code",
   "execution_count": null,
   "id": "68ce6434",
   "metadata": {
    "scrolled": true
   },
   "outputs": [],
   "source": [
    "from sklearn.svm import SVC\n",
    "from sklearn.model_selection import GridSearchCV\n",
    "\n",
    "svc_param = {'kernel': ['linear', 'poly', 'rbf', 'sigmoid'],\n",
    "            'max_iter': [-1,1,5,10,20,40]}\n",
    "\n",
    "clf = GridSearchCV(SVC(), svc_param, cv=2)\n",
    "\n",
    "clf.fit(X1_train, y1_train.ravel())\n",
    "clf.best_params_"
   ]
  },
  {
   "cell_type": "code",
   "execution_count": null,
   "id": "5029b97a",
   "metadata": {},
   "outputs": [],
   "source": [
    "clf.score(X1_test,y1_test)"
   ]
  },
  {
   "cell_type": "code",
   "execution_count": null,
   "id": "35b0f6fd",
   "metadata": {},
   "outputs": [],
   "source": [
    "SVC(kernel = 'sigmoid').fit(X1_train,y1_train).score(X1_test,y1_test)"
   ]
  },
  {
   "cell_type": "code",
   "execution_count": null,
   "id": "3f1624cc",
   "metadata": {},
   "outputs": [],
   "source": [
    "from sklearn.tree import DecisionTreeClassifier\n",
    "from sklearn.model_selection import GridSearchCV\n",
    "\n",
    "tree = DecisionTreeClassifier()\n",
    "\n",
    "tree_param = {'criterion': ['entropy', 'gini'], \n",
    "               'max_depth': [2,4,8,16,32,64,128],\n",
    "              'min_samples_leaf': [1,2,3,4,5]}\n",
    "\n",
    "clf = GridSearchCV(DecisionTreeClassifier(random_state=1), tree_param, cv=9)\n",
    "\n",
    "clf.fit(X1_train, y1_train)\n",
    "clf.score(X1_test,y1_test)\n",
    "#treeClsScore = cross_val_score(tree, X1, y1, cv=3).mean()"
   ]
  },
  {
   "cell_type": "code",
   "execution_count": null,
   "id": "ba80b315",
   "metadata": {},
   "outputs": [],
   "source": [
    "clf.predict(X1_test)"
   ]
  },
  {
   "cell_type": "code",
   "execution_count": null,
   "id": "03c67a78",
   "metadata": {},
   "outputs": [],
   "source": [
    "scores = [GridSearchCV(DecisionTreeClassifier(random_state=1), tree_param, cv=i).fit(X1_train, y1_train.ravel()).score(X1_test,y1_test) for i in range(2,15)]\n",
    "scores"
   ]
  },
  {
   "cell_type": "code",
   "execution_count": null,
   "id": "8a1af2bf",
   "metadata": {
    "scrolled": true
   },
   "outputs": [],
   "source": [
    "from sklearn.ensemble import RandomForestClassifier\n",
    "\n",
    "clf = GridSearchCV(RandomForestClassifier(random_state = 57), tree_param, cv=2)\n",
    "\n",
    "clf.fit(X1_train, y1_train.ravel())\n",
    "clf.predict(X1_test)"
   ]
  },
  {
   "cell_type": "code",
   "execution_count": null,
   "id": "3cdd1e64",
   "metadata": {},
   "outputs": [],
   "source": [
    "clf.score(X1_test,y1_test)"
   ]
  },
  {
   "cell_type": "code",
   "execution_count": null,
   "id": "55c13d73",
   "metadata": {},
   "outputs": [],
   "source": [
    "clf.best_params_"
   ]
  },
  {
   "cell_type": "code",
   "execution_count": null,
   "id": "6ed3f670",
   "metadata": {},
   "outputs": [],
   "source": [
    "# scores = []\n",
    "\n",
    "# for i in range(2,8):\n",
    "#     clf = GridSearchCV(RandomForestClassifier(), tree_param, cv=i)\n",
    "\n",
    "#     clf.fit(X1_train, y1_train.ravel())\n",
    "#     scores.append(clf.score(X1_test,y1_test))"
   ]
  },
  {
   "cell_type": "code",
   "execution_count": null,
   "id": "0d88f21c",
   "metadata": {},
   "outputs": [],
   "source": [
    "scores"
   ]
  },
  {
   "cell_type": "code",
   "execution_count": null,
   "id": "00f54358",
   "metadata": {},
   "outputs": [],
   "source": [
    "from sklearn.naive_bayes import GaussianNB\n",
    "nb = GaussianNB()\n",
    "NBClsScore = cross_val_score(nb, X1, y1.ravel(), cv=3).mean()\n",
    "NBClsScore"
   ]
  },
  {
   "cell_type": "code",
   "execution_count": null,
   "id": "da7701cf",
   "metadata": {},
   "outputs": [],
   "source": [
    "import pickle\n",
    "model = RandomForestClassifier(criterion = 'entropy', max_depth = 4, min_samples_leaf = 1,random_state=57).fit(X1_train, y1_train.ravel())\n",
    "pickle.dump(model,open('./models/RFClsConfidenceScore_25-10-21.pickle', 'wb'))"
   ]
  },
  {
   "cell_type": "markdown",
   "id": "c048e2c9",
   "metadata": {},
   "source": [
    "## Regression"
   ]
  },
  {
   "cell_type": "code",
   "execution_count": null,
   "id": "81a05c3d",
   "metadata": {
    "tags": []
   },
   "outputs": [],
   "source": [
    "from sklearn.tree import DecisionTreeRegressor\n",
    "\n",
    "tree_param = {'criterion': ['squared_error', 'friedman_mse', 'absolute_error', 'poisson'],\n",
    "              'max_depth': [2,4,8,16,32],\n",
    "              'min_samples_leaf': [1,2,3,4,5]}\n",
    "\n",
    "reg = GridSearchCV(DecisionTreeRegressor(), tree_param, cv=5)\n",
    "\n",
    "reg.fit(X2_train, y2_train.ravel())\n",
    "reg.score(X2_test,y2_test)"
   ]
  },
  {
   "cell_type": "code",
   "execution_count": null,
   "id": "5889f081",
   "metadata": {},
   "outputs": [],
   "source": [
    "reg.best_params_"
   ]
  },
  {
   "cell_type": "code",
   "execution_count": null,
   "id": "8d15c230",
   "metadata": {
    "tags": []
   },
   "outputs": [],
   "source": [
    "from sklearn.ensemble import RandomForestRegressor\n",
    "\n",
    "reg = GridSearchCV(RandomForestRegressor(), tree_param, cv=2)\n",
    "\n",
    "reg.fit(X2_train, y2_train.ravel())\n",
    "reg.score(X2_test,y2_test)"
   ]
  },
  {
   "cell_type": "code",
   "execution_count": null,
   "id": "72d4d297",
   "metadata": {},
   "outputs": [],
   "source": [
    "reg.best_params_"
   ]
  },
  {
   "cell_type": "code",
   "execution_count": null,
   "id": "21773dd6",
   "metadata": {
    "scrolled": true
   },
   "outputs": [],
   "source": [
    "from sklearn import svm\n",
    "\n",
    "reg = GridSearchCV(svm.SVR(), svc_param, cv=2)\n",
    "\n",
    "reg.fit(X2_train, y2_train.ravel())\n",
    "reg.score(X2_test,y2_test)"
   ]
  },
  {
   "cell_type": "code",
   "execution_count": null,
   "id": "d9b28fea",
   "metadata": {},
   "outputs": [],
   "source": [
    "reg.best_params_"
   ]
  },
  {
   "cell_type": "code",
   "execution_count": null,
   "id": "c7f5140c",
   "metadata": {},
   "outputs": [],
   "source": [
    "from sklearn import svm\n",
    "\n",
    "svmScore = svm.SVR(kernel='linear',max_iter=-1).fit(X2_train, y2_train.ravel()).score(X2_test, y2_test)\n",
    "svmScore"
   ]
  },
  {
   "cell_type": "code",
   "execution_count": null,
   "id": "67576917",
   "metadata": {},
   "outputs": [],
   "source": [
    "min(svm.SVR(kernel='linear',max_iter=-1).fit(X2_train, y2_train.ravel()).predict(X2_test))"
   ]
  },
  {
   "cell_type": "code",
   "execution_count": null,
   "id": "f52ce7be",
   "metadata": {},
   "outputs": [],
   "source": [
    "reg = RandomForestRegressor(criterion = 'friedman_mse', max_depth = 4, min_samples_leaf = 5,random_state=55).fit(X2_train,y2_train)\n",
    "reg.score(X2_test,y2_test)"
   ]
  },
  {
   "cell_type": "code",
   "execution_count": null,
   "id": "50bed2cd",
   "metadata": {},
   "outputs": [],
   "source": [
    "model = svm.SVR(kernel='linear',max_iter=-1).fit(X2_train, y2_train.ravel())\n",
    "pickle.dump(model,open('./models/SvmRegConfidenceScore_25-10-21.pickle', 'wb'))"
   ]
  },
  {
   "cell_type": "markdown",
   "id": "1aab0df1",
   "metadata": {},
   "source": [
    "## Apply to full data, get distr"
   ]
  },
  {
   "cell_type": "code",
   "execution_count": null,
   "id": "839de6e1",
   "metadata": {},
   "outputs": [],
   "source": [
    "import pickle\n",
    "import pandas as pd\n",
    "\n",
    "cls = pickle.load(open('./models/RFClsConfidenceScore_25-10-21.pickle', 'rb'))\n",
    "reg = pickle.load(open('./models/SvmRegConfidenceScore_25-10-21.pickle', 'rb'))"
   ]
  },
  {
   "cell_type": "code",
   "execution_count": null,
   "id": "9d961124",
   "metadata": {},
   "outputs": [],
   "source": [
    "X1 = data[['valueLog','moveFreq','premsFreq','premsMedian','goneAway','firstNameCommonality','surnameCommonality']].to_numpy()\n",
    "y1 = cls.predict( MinMaxScaler().fit_transform(X1))\n",
    "data['traceability'] = y1"
   ]
  },
  {
   "cell_type": "code",
   "execution_count": null,
   "id": "b3588ed1",
   "metadata": {},
   "outputs": [],
   "source": [
    "np.mean(y1)"
   ]
  },
  {
   "cell_type": "code",
   "execution_count": null,
   "id": "726ea964",
   "metadata": {},
   "outputs": [],
   "source": [
    "data.to_csv('./data/dataTrace.csv')"
   ]
  },
  {
   "cell_type": "code",
   "execution_count": null,
   "id": "a9cc72a3",
   "metadata": {},
   "outputs": [],
   "source": [
    "df2 = data.where(data[\"traceability\"] > 0).dropna(how='all')\n",
    "X2 = df2[['valueLog','moveFreq','premsFreq','premsMedian','goneAway','firstNameCommonality','surnameCommonality']].to_numpy()\n",
    "y2 = reg.predict( MinMaxScaler().fit_transform(X2))"
   ]
  },
  {
   "cell_type": "code",
   "execution_count": null,
   "id": "b6ca9b34",
   "metadata": {},
   "outputs": [],
   "source": [
    "df2['traceability'] = y2\n",
    "\n",
    "df1 = data.where(data[\"traceability\"] == 0).dropna(how='all')\n",
    "\n",
    "df = pd.concat([df1,df2])\n",
    "\n",
    "df.sort_index()"
   ]
  },
  {
   "cell_type": "code",
   "execution_count": null,
   "id": "aee25804",
   "metadata": {},
   "outputs": [],
   "source": [
    "df.describe().to_csv('./data/traceabilityDesc.csv')"
   ]
  },
  {
   "cell_type": "code",
   "execution_count": null,
   "id": "123b0bb0",
   "metadata": {},
   "outputs": [],
   "source": [
    "from itertools import combinations\n",
    "import matplotlib.pyplot as plt\n",
    "\n",
    "fig, axes = plt.subplots(len(df.columns)//3, 3, figsize=(12, 48))\n",
    "\n",
    "i = 0\n",
    "for triaxis in axes:\n",
    "    for axis in triaxis:\n",
    "        df.hist(column = df.columns[i], bins = 10, ax=axis)\n",
    "        i = i+1"
   ]
  },
  {
   "cell_type": "code",
   "execution_count": null,
   "id": "a129d618",
   "metadata": {},
   "outputs": [],
   "source": [
    "import seaborn\n",
    "\n",
    "seaborn.heatmap(df.corr())"
   ]
  },
  {
   "cell_type": "code",
   "execution_count": null,
   "id": "55e69485",
   "metadata": {},
   "outputs": [],
   "source": [
    "df.corr().to_csv('./data/covar21.csv')"
   ]
  },
  {
   "cell_type": "code",
   "execution_count": null,
   "id": "4dfb0779-ac68-41d1-9032-e65a4f9bb0e1",
   "metadata": {},
   "outputs": [],
   "source": []
  }
 ],
 "metadata": {
  "kernelspec": {
   "display_name": "Python 3",
   "language": "python",
   "name": "python3"
  },
  "language_info": {
   "codemirror_mode": {
    "name": "ipython",
    "version": 3
   },
   "file_extension": ".py",
   "mimetype": "text/x-python",
   "name": "python",
   "nbconvert_exporter": "python",
   "pygments_lexer": "ipython3",
   "version": "3.8.8"
  }
 },
 "nbformat": 4,
 "nbformat_minor": 5
}
