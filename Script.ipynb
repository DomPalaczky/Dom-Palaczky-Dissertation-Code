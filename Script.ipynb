{
 "cells": [
  {
   "cell_type": "code",
   "execution_count": 1,
   "id": "28b2e37f-d493-4c48-8c2b-9bbfc950629d",
   "metadata": {},
   "outputs": [],
   "source": [
    "import pandas as pd\n",
    "%store -r t\n",
    "\n",
    "data = pd.read_csv('./fakeData/data' + t +'.csv')\n",
    "data = data.drop(['latitude','long', 'value', 'marketing'],axis=1)\n",
    "timedata =  pd.read_csv('./fakeData/prems' + t + '.csv')"
   ]
  },
  {
   "cell_type": "code",
   "execution_count": 2,
   "id": "36cdb8b0-a075-4cf4-a576-0712b83f842f",
   "metadata": {
    "tags": []
   },
   "outputs": [
    {
     "name": "stderr",
     "output_type": "stream",
     "text": [
      "C:\\Users\\dompa\\anaconda3\\lib\\site-packages\\minisom.py:486: RuntimeWarning: invalid value encountered in sqrt\n",
      "  return sqrt(-2 * cross_term + input_data_sq + weights_flat_sq.T)\n"
     ]
    },
    {
     "name": "stdout",
     "output_type": "stream",
     "text": [
      "The best parameters are: (25, 2, 2, 1000, 'gaussian')\n",
      "There are 5 clusters\n",
      "The size of clusters are  [[   0 2781]\n",
      " [   1  598]\n",
      " [   2  607]\n",
      " [   3 2784]\n",
      " [   4 3230]]\n",
      "74.21690559387207\n",
      "Decision Tree Validation score is 0.998\n",
      "   sex   valueLog  moveFreq  moveDur  premsFreq  premsMean  premsMax  \\\n",
      "0  0.0  12.028720       1.0   6570.0       58.0    2176.51   4615.00   \n",
      "1  2.0   6.565265       1.0   6570.0        1.0     250.00    250.00   \n",
      "2  0.0  10.322722       1.0   6570.0      216.0      96.51    438.05   \n",
      "3  2.0   6.565265       1.0   6570.0        1.0     250.00    250.00   \n",
      "4  2.0  10.020820       3.0   1822.0        6.0    2810.32   3785.99   \n",
      "\n",
      "   premsMin  premsMedian  premsDur  traceability  cluster  \n",
      "0    240.74      2124.70     115.0      0.000000      0.0  \n",
      "1    250.00       250.00    6570.0      0.000000      4.0  \n",
      "2      2.98        86.05      30.0      0.531680      3.0  \n",
      "3    250.00       250.00    6570.0      0.656537      4.0  \n",
      "4   1834.52      2805.93    1160.0      0.000000      2.0  \n",
      "Statistically\n",
      "Cluster 0 has relatively high feature premsMean with mean value of 801.480793\n",
      "Cluster 0 has relatively high feature premsMax with mean value of 1584.953634\n",
      "Cluster 0 has relatively high feature premsMedian with mean value of 791.983216\n",
      "Cluster 1 has relatively high feature moveFreq with mean value of 1.2434\n",
      "Cluster 1 has relatively low feature moveDur with mean value of 5688.0136\n",
      "Cluster 1 has relatively high feature premsFreq with mean value of 90.3794\n",
      "Cluster 2 has relatively high feature moveFreq with mean value of 1.2434\n",
      "Cluster 2 has relatively low feature moveDur with mean value of 5688.0136\n",
      "Cluster 2 has relatively high feature premsMean with mean value of 801.480793\n",
      "Cluster 2 has relatively high feature premsMax with mean value of 1584.953634\n",
      "Cluster 2 has relatively high feature premsMedian with mean value of 791.983216\n",
      "Cluster 3 has relatively high feature premsFreq with mean value of 90.3794\n",
      "Cluster 4 has relatively low feature valueLog with mean value of 9.530657401884108\n",
      "Cluster 4 has relatively high feature premsDur with mean value of 2222.398\n"
     ]
    },
    {
     "name": "stderr",
     "output_type": "stream",
     "text": [
      "C:\\Users\\dompa\\Documents\\Intern Py\\module\\visual.py:68: RuntimeWarning: More than 20 figures have been opened. Figures created through the pyplot interface (`matplotlib.pyplot.figure`) are retained until explicitly closed and may consume too much memory. (To control this warning, see the rcParam `figure.max_open_warning`).\n",
      "  fig, ax = plt.subplots()\n"
     ]
    },
    {
     "name": "stdout",
     "output_type": "stream",
     "text": [
      "   sex   valueLog  moveFreq  moveDur  premsFreq  premsMean  premsMax  \\\n",
      "0  0.0  12.028720       1.0   6570.0       58.0    2176.51   4615.00   \n",
      "1  2.0   6.565265       1.0   6570.0        1.0     250.00    250.00   \n",
      "2  0.0  10.322722       1.0   6570.0      216.0      96.51    438.05   \n",
      "3  2.0   6.565265       1.0   6570.0        1.0     250.00    250.00   \n",
      "4  2.0  10.020820       3.0   1822.0        6.0    2810.32   3785.99   \n",
      "\n",
      "   premsMin  premsMedian  premsDur  traceability  cluster  \n",
      "0    240.74      2124.70     115.0      0.000000      0.0  \n",
      "1    250.00       250.00    6570.0      0.000000      0.0  \n",
      "2      2.98        86.05      30.0      0.531680      0.0  \n",
      "3    250.00       250.00    6570.0      0.656537      0.0  \n",
      "4   1834.52      2805.93    1160.0      0.000000      0.0  \n"
     ]
    },
    {
     "data": {
      "text/plain": [
       "<Figure size 432x288 with 0 Axes>"
      ]
     },
     "metadata": {},
     "output_type": "display_data"
    },
    {
     "data": {
      "text/plain": [
       "<Figure size 432x288 with 0 Axes>"
      ]
     },
     "metadata": {},
     "output_type": "display_data"
    },
    {
     "data": {
      "text/plain": [
       "<Figure size 432x288 with 0 Axes>"
      ]
     },
     "metadata": {},
     "output_type": "display_data"
    },
    {
     "data": {
      "text/plain": [
       "<Figure size 1080x360 with 0 Axes>"
      ]
     },
     "metadata": {},
     "output_type": "display_data"
    },
    {
     "data": {
      "text/plain": [
       "<Figure size 432x288 with 0 Axes>"
      ]
     },
     "metadata": {},
     "output_type": "display_data"
    },
    {
     "data": {
      "text/plain": [
       "<Figure size 432x288 with 0 Axes>"
      ]
     },
     "metadata": {},
     "output_type": "display_data"
    },
    {
     "data": {
      "text/plain": [
       "<Figure size 432x288 with 0 Axes>"
      ]
     },
     "metadata": {},
     "output_type": "display_data"
    },
    {
     "data": {
      "text/plain": [
       "<Figure size 432x288 with 0 Axes>"
      ]
     },
     "metadata": {},
     "output_type": "display_data"
    },
    {
     "data": {
      "text/plain": [
       "<Figure size 432x288 with 0 Axes>"
      ]
     },
     "metadata": {},
     "output_type": "display_data"
    },
    {
     "data": {
      "text/plain": [
       "<Figure size 432x288 with 0 Axes>"
      ]
     },
     "metadata": {},
     "output_type": "display_data"
    },
    {
     "data": {
      "text/plain": [
       "<Figure size 432x288 with 0 Axes>"
      ]
     },
     "metadata": {},
     "output_type": "display_data"
    },
    {
     "data": {
      "text/plain": [
       "<Figure size 432x288 with 0 Axes>"
      ]
     },
     "metadata": {},
     "output_type": "display_data"
    },
    {
     "data": {
      "text/plain": [
       "<Figure size 432x288 with 0 Axes>"
      ]
     },
     "metadata": {},
     "output_type": "display_data"
    },
    {
     "data": {
      "text/plain": [
       "<Figure size 432x288 with 0 Axes>"
      ]
     },
     "metadata": {},
     "output_type": "display_data"
    },
    {
     "data": {
      "text/plain": [
       "<Figure size 432x288 with 0 Axes>"
      ]
     },
     "metadata": {},
     "output_type": "display_data"
    },
    {
     "data": {
      "text/plain": [
       "<Figure size 576x576 with 0 Axes>"
      ]
     },
     "metadata": {},
     "output_type": "display_data"
    },
    {
     "data": {
      "text/plain": [
       "<Figure size 1080x360 with 0 Axes>"
      ]
     },
     "metadata": {},
     "output_type": "display_data"
    },
    {
     "data": {
      "text/plain": [
       "<Figure size 1080x360 with 0 Axes>"
      ]
     },
     "metadata": {},
     "output_type": "display_data"
    },
    {
     "data": {
      "text/plain": [
       "<Figure size 432x288 with 0 Axes>"
      ]
     },
     "metadata": {},
     "output_type": "display_data"
    },
    {
     "data": {
      "text/plain": [
       "<Figure size 432x288 with 0 Axes>"
      ]
     },
     "metadata": {},
     "output_type": "display_data"
    },
    {
     "data": {
      "text/plain": [
       "<Figure size 432x288 with 0 Axes>"
      ]
     },
     "metadata": {},
     "output_type": "display_data"
    },
    {
     "data": {
      "text/plain": [
       "<Figure size 432x288 with 0 Axes>"
      ]
     },
     "metadata": {},
     "output_type": "display_data"
    },
    {
     "data": {
      "text/plain": [
       "<Figure size 432x288 with 0 Axes>"
      ]
     },
     "metadata": {},
     "output_type": "display_data"
    },
    {
     "data": {
      "text/plain": [
       "<Figure size 432x288 with 0 Axes>"
      ]
     },
     "metadata": {},
     "output_type": "display_data"
    },
    {
     "data": {
      "text/plain": [
       "<Figure size 432x288 with 0 Axes>"
      ]
     },
     "metadata": {},
     "output_type": "display_data"
    },
    {
     "data": {
      "text/plain": [
       "<Figure size 432x288 with 0 Axes>"
      ]
     },
     "metadata": {},
     "output_type": "display_data"
    },
    {
     "data": {
      "text/plain": [
       "<Figure size 432x288 with 0 Axes>"
      ]
     },
     "metadata": {},
     "output_type": "display_data"
    },
    {
     "data": {
      "text/plain": [
       "<Figure size 432x288 with 0 Axes>"
      ]
     },
     "metadata": {},
     "output_type": "display_data"
    },
    {
     "data": {
      "text/plain": [
       "<Figure size 432x288 with 0 Axes>"
      ]
     },
     "metadata": {},
     "output_type": "display_data"
    },
    {
     "data": {
      "text/plain": [
       "<Figure size 576x576 with 0 Axes>"
      ]
     },
     "metadata": {},
     "output_type": "display_data"
    },
    {
     "data": {
      "text/plain": [
       "<Figure size 1080x360 with 0 Axes>"
      ]
     },
     "metadata": {},
     "output_type": "display_data"
    },
    {
     "data": {
      "text/plain": [
       "<Figure size 1800x432 with 0 Axes>"
      ]
     },
     "metadata": {},
     "output_type": "display_data"
    },
    {
     "data": {
      "text/plain": [
       "<Figure size 1800x432 with 0 Axes>"
      ]
     },
     "metadata": {},
     "output_type": "display_data"
    }
   ],
   "source": [
    "from module.ClusterAnalysis import runClusterAnalysis\n",
    "import time\n",
    "\n",
    "runClusterAnalysis(data, labelcolumn = 'goneAway',labelnames=[ 'Not Gone Away','Gone Away'], saveimagepath = './vissom', algorithm = 'SOM', validationthreshold = 0.95, timeseriesdata = timedata, mergetimeserieson = 'perno', timeseriesdates= 'effDate', timeseriesamounts = 'netPrem')"
   ]
  }
 ],
 "metadata": {
  "kernelspec": {
   "display_name": "Python 3 (ipykernel)",
   "language": "python",
   "name": "python3"
  },
  "language_info": {
   "codemirror_mode": {
    "name": "ipython",
    "version": 3
   },
   "file_extension": ".py",
   "mimetype": "text/x-python",
   "name": "python",
   "nbconvert_exporter": "python",
   "pygments_lexer": "ipython3",
   "version": "3.9.7"
  }
 },
 "nbformat": 4,
 "nbformat_minor": 5
}
